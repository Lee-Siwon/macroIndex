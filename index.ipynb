{
 "cells": [
  {
   "cell_type": "markdown",
   "metadata": {},
   "source": [
    "~~~\n",
    "이준상, 마지막 업데이트 20230226\n",
    "\n",
    "\n",
    "지속적으로 업데이트 중입니다. 외부 배포를 금지합니다.  \n",
    "~~~"
   ]
  },
  {
   "cell_type": "markdown",
   "metadata": {},
   "source": [
    "# [경제지표의 이해와 분석](./index.html)\n",
    "\n",
    "## 1장 [국민소득통계(국민계정)](./1장-국민소득통계.html)\n",
    "\n",
    "## 2장 [물가](./2장-물가.html)\n",
    "\n",
    "## 3장 [노동시장](./3장-노동시장.html)\n",
    "\n",
    "## 4장 [경기](./4장-경기.html)\n",
    "\n",
    "## 5장 [금융시장](./5장-금융시장.html)\n",
    "\n",
    "## 6장 [소비](./6장-소비.html)\n",
    "\n",
    "## 7장 [설비투자](./7장-설비투자.html)\n",
    "\n",
    "## 8장 [건설투자](./8장-건설투자.html)\n",
    "\n",
    "## 9장 [지식재산생산물투자](./9장-지식재산생산물투자.html)\n",
    "\n",
    "## 10장 [대외거래](./10장-대외거래.html)\n",
    "\n",
    "## 11장 [재정](./11장-재정.html)"
   ]
  }
 ],
 "metadata": {
  "kernelspec": {
   "display_name": "Python 3 (ipykernel)",
   "language": "python",
   "name": "python3"
  },
  "language_info": {
   "codemirror_mode": {
    "name": "ipython",
    "version": 3
   },
   "file_extension": ".py",
   "mimetype": "text/x-python",
   "name": "python",
   "nbconvert_exporter": "python",
   "pygments_lexer": "ipython3",
   "version": "3.9.15"
  },
  "vscode": {
   "interpreter": {
    "hash": "09c962df69b3a791a99d77972432291ba0600d0ce12be3b2264194eab0977144"
   }
  }
 },
 "nbformat": 4,
 "nbformat_minor": 2
}
