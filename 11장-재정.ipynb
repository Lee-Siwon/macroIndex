{
 "cells": [
  {
   "cell_type": "markdown",
   "id": "2e9fa9ef",
   "metadata": {},
   "source": [
    "# 11장 재정"
   ]
  },
  {
   "cell_type": "markdown",
   "id": "49d909f3",
   "metadata": {},
   "source": [
    "아직요... 할께요... 할께. 곧 하렵니다."
   ]
  },
  {
   "cell_type": "markdown",
   "id": "84fa1c69",
   "metadata": {},
   "source": []
  },
  {
   "cell_type": "markdown",
   "id": "d7048467",
   "metadata": {},
   "source": []
  },
  {
   "cell_type": "markdown",
   "id": "3efa5f04",
   "metadata": {},
   "source": []
  },
  {
   "cell_type": "markdown",
   "id": "d39ab15c",
   "metadata": {},
   "source": []
  },
  {
   "cell_type": "markdown",
   "id": "21d68909",
   "metadata": {},
   "source": []
  },
  {
   "cell_type": "markdown",
   "id": "2bccc4fd",
   "metadata": {},
   "source": []
  },
  {
   "cell_type": "markdown",
   "id": "e35b1b2c",
   "metadata": {},
   "source": []
  },
  {
   "cell_type": "markdown",
   "id": "f5463281",
   "metadata": {},
   "source": []
  }
 ],
 "metadata": {
  "kernelspec": {
   "display_name": "Python 3 (ipykernel)",
   "language": "python",
   "name": "python3"
  },
  "language_info": {
   "codemirror_mode": {
    "name": "ipython",
    "version": 3
   },
   "file_extension": ".py",
   "mimetype": "text/x-python",
   "name": "python",
   "nbconvert_exporter": "python",
   "pygments_lexer": "ipython3",
   "version": "3.9.15"
  }
 },
 "nbformat": 4,
 "nbformat_minor": 5
}
